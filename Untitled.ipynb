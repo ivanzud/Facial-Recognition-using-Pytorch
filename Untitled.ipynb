{
 "cells": [
  {
   "cell_type": "code",
   "execution_count": 1,
   "metadata": {
    "ExecuteTime": {
     "end_time": "2020-11-13T04:03:02.945134Z",
     "start_time": "2020-11-13T04:02:59.727126Z"
    }
   },
   "outputs": [],
   "source": [
    "import numpy as np\n",
    "import cv2\n",
    "#import tensorflow as tf\n",
    "import skimage.color as color\n",
    "import skimage.io as io\n",
    "import os"
   ]
  },
  {
   "cell_type": "code",
   "execution_count": 2,
   "metadata": {
    "ExecuteTime": {
     "end_time": "2020-11-13T04:03:02.948746Z",
     "start_time": "2020-11-13T04:03:02.946639Z"
    }
   },
   "outputs": [],
   "source": [
    "# pip install -U numpy"
   ]
  },
  {
   "cell_type": "code",
   "execution_count": 3,
   "metadata": {
    "ExecuteTime": {
     "end_time": "2020-11-13T04:03:15.714381Z",
     "start_time": "2020-11-13T04:03:02.950086Z"
    }
   },
   "outputs": [],
   "source": [
    "mydir = r'face_images'\n",
    "images = [files for files in os.listdir(mydir)]\n",
    "N = 750;\n",
    "data = np.zeros([N, 256, 256, 3]) # N is number of images for training\n",
    "for count in range(len(images)):\n",
    " img = cv2.resize(io.imread(mydir + '/'+ images[count]), (256, 256))\n",
    " data[count,:,:,:] = img\n",
    "num_train = N\n",
    "Xtrain = color.rgb2lab(data[:num_train]*1.0/255)\n",
    "xt = Xtrain[:,:,:,0]\n",
    "yt = Xtrain[:,:,:,1:]\n",
    "yt = yt/128\n",
    "xt = xt.reshape(num_train, 256, 256, 1)\n",
    "yt = yt.reshape(num_train, 256, 256, 2)"
   ]
  },
  {
   "cell_type": "code",
   "execution_count": 4,
   "metadata": {
    "ExecuteTime": {
     "end_time": "2020-11-13T04:03:15.954018Z",
     "start_time": "2020-11-13T04:03:15.716356Z"
    }
   },
   "outputs": [
    {
     "name": "stdout",
     "output_type": "stream",
     "text": [
      "WARNING:tensorflow:From /usr/lib/python3/dist-packages/tensorflow/python/compat/v2_compat.py:96: disable_resource_variables (from tensorflow.python.ops.variable_scope) is deprecated and will be removed in a future version.\n",
      "Instructions for updating:\n",
      "non-resource variables are not supported in the long term\n",
      "Tensor(\"mul:0\", shape=(), dtype=int32)\n"
     ]
    }
   ],
   "source": [
    "# import tensorflow as tf \n",
    "import tensorflow.compat.v1 as tf\n",
    "tf.disable_v2_behavior()\n",
    "# config = tf.ConfigProto()\n",
    "# config.gpu_options.allow_growth = True\n",
    "tf_config = tf.ConfigProto()\n",
    "tf_config.gpu_options.allow_growth = True\n",
    "tf_config.gpu_options.per_process_gpu_memory_fraction = 0.9\n",
    "tf_config.allow_soft_placement = True\n",
    "# gpus = tf.config.experimental.list_physical_devices('GPU')\n",
    "# if gpus:\n",
    "#   try:\n",
    "#     # Currently, memory growth needs to be the same across GPUs\n",
    "#     for gpu in gpus:\n",
    "#       tf.config.experimental.set_memory_growth(gpu, True)\n",
    "#     logical_gpus = tf.config.experimental.list_logical_devices('GPU')\n",
    "#     print(len(gpus), \"Physical GPUs,\", len(logical_gpus), \"Logical GPUs\")\n",
    "#   except RuntimeError as e:\n",
    "#     # Memory growth must be set before GPUs have been initialized\n",
    "#     print(e)\n",
    "a = tf.constant(5)\n",
    "b = tf.constant(6)\n",
    "c = a*b\n",
    "print(c)"
   ]
  },
  {
   "cell_type": "code",
   "execution_count": 5,
   "metadata": {
    "ExecuteTime": {
     "end_time": "2020-11-13T04:03:17.804754Z",
     "start_time": "2020-11-13T04:03:15.956069Z"
    }
   },
   "outputs": [],
   "source": [
    "session = tf.Session(config=tf_config)\n",
    "x = tf.placeholder(tf.float32, shape = [None, 256, 256, 1], name = 'x')\n",
    "ytrue = tf.placeholder(tf.float32, shape = [None, 256, 256, 2], name = 'ytrue')"
   ]
  },
  {
   "cell_type": "code",
   "execution_count": 6,
   "metadata": {
    "ExecuteTime": {
     "end_time": "2020-11-13T04:03:17.809710Z",
     "start_time": "2020-11-13T04:03:17.806886Z"
    }
   },
   "outputs": [],
   "source": [
    "def create_weights(shape):\n",
    "  return tf.Variable(tf.truncated_normal(shape, stddev=0.1))\n",
    "def create_bias(size):\n",
    "  return tf.Variable(tf.constant(0.1, shape = [size]))"
   ]
  },
  {
   "cell_type": "code",
   "execution_count": 7,
   "metadata": {
    "ExecuteTime": {
     "end_time": "2020-11-13T04:03:17.814379Z",
     "start_time": "2020-11-13T04:03:17.811120Z"
    }
   },
   "outputs": [],
   "source": [
    "def convolution(inputs, num_channels, filter_size, num_filters):\n",
    "  weights = create_weights(shape = [filter_size, filter_size, num_channels, num_filters])\n",
    "  bias = create_bias(num_filters)\n",
    "  \n",
    "  ## convolutional layer\n",
    "  layer = tf.nn.conv2d(input = inputs, filter = weights, strides= [1, 1, 1, 1], padding = 'SAME') + bias\n",
    "  layer = tf.nn.tanh(layer)\n",
    "  return layer"
   ]
  },
  {
   "cell_type": "code",
   "execution_count": 8,
   "metadata": {
    "ExecuteTime": {
     "end_time": "2020-11-13T04:03:17.819380Z",
     "start_time": "2020-11-13T04:03:17.815929Z"
    }
   },
   "outputs": [],
   "source": [
    "def maxpool(inputs, kernel, stride):\n",
    "  layer = tf.nn.max_pool(value = inputs, ksize = [1, kernel, kernel, 1], strides = [1, stride, stride, 1], padding = \"SAME\")\n",
    "  return layer\n",
    "def upsampling(inputs):\n",
    "  layer = tf.image.resize_nearest_neighbor(inputs, (2*inputs.get_shape().as_list()[1], 2*inputs.get_shape().as_list()[2]))\n",
    "  return layer"
   ]
  },
  {
   "cell_type": "code",
   "execution_count": 9,
   "metadata": {
    "ExecuteTime": {
     "end_time": "2020-11-13T04:03:17.879930Z",
     "start_time": "2020-11-13T04:03:17.820801Z"
    }
   },
   "outputs": [],
   "source": [
    "conv1 = convolution(x, 1, 3, 3)\n",
    "max1 = maxpool(conv1, 2, 2)\n",
    "conv2 = convolution(max1, 3, 3, 8)\n",
    "max2 = maxpool(conv2, 2, 2)\n",
    "conv3 = convolution(max2, 8, 3, 16)\n",
    "max3 = maxpool(conv3, 2, 2)\n",
    "conv4 = convolution(max3, 16, 3, 16)\n",
    "max4 = maxpool(conv4, 2, 2)\n",
    "conv5 = convolution(max4, 16, 3, 32)\n",
    "max5 = maxpool(conv5, 2, 2)\n",
    "conv6 = convolution(max5, 32, 3, 32)\n",
    "max6 = maxpool(conv6, 2, 2)\n",
    "conv7 = convolution(max6, 32, 3, 64)\n",
    "upsample1 = upsampling(conv7)\n",
    "conv8 = convolution(upsample1, 64, 3, 32)\n",
    "upsample2 = upsampling(conv8)\n",
    "conv9 = convolution(upsample2, 32, 3, 32)\n",
    "upsample3 = upsampling(conv9)\n",
    "conv10 = convolution(upsample3, 32, 3, 16)\n",
    "upsample4 = upsampling(conv10)\n",
    "conv11 = convolution(upsample4, 16, 3, 16)\n",
    "upsample5 = upsampling(conv11)\n",
    "conv12 = convolution(upsample5, 16, 3, 8)\n",
    "upsample6 = upsampling(conv12)\n",
    "conv13 = convolution(upsample6, 8, 3, 2)"
   ]
  },
  {
   "cell_type": "code",
   "execution_count": 10,
   "metadata": {
    "ExecuteTime": {
     "end_time": "2020-11-13T04:03:18.156005Z",
     "start_time": "2020-11-13T04:03:17.881061Z"
    }
   },
   "outputs": [],
   "source": [
    "loss = tf.losses.mean_squared_error(labels = ytrue, predictions = conv13)\n",
    "cost = tf.reduce_mean(loss)\n",
    "optimizer = tf.train.AdamOptimizer(learning_rate = 0.0001).minimize(cost)\n",
    "session.run(tf.global_variables_initializer())"
   ]
  },
  {
   "cell_type": "code",
   "execution_count": null,
   "metadata": {
    "ExecuteTime": {
     "start_time": "2020-11-13T04:02:59.458Z"
    }
   },
   "outputs": [],
   "source": [
    "num_epochs = 100\n",
    "for i in range(num_epochs):\n",
    "    session.run(optimizer, feed_dict = {x: xt, ytrue:yt})\n",
    "    lossvalue = session.run(cost, feed_dict = {x:xt, ytrue : yt})\n",
    "    print(\"epoch: \" + str(i) + \" loss: \" + str(lossvalue))"
   ]
  },
  {
   "cell_type": "code",
   "execution_count": null,
   "metadata": {},
   "outputs": [],
   "source": []
  }
 ],
 "metadata": {
  "hide_input": false,
  "kernelspec": {
   "display_name": "Python 3",
   "language": "python",
   "name": "python3"
  },
  "language_info": {
   "codemirror_mode": {
    "name": "ipython",
    "version": 3
   },
   "file_extension": ".py",
   "mimetype": "text/x-python",
   "name": "python",
   "nbconvert_exporter": "python",
   "pygments_lexer": "ipython3",
   "version": "3.8.5"
  },
  "varInspector": {
   "cols": {
    "lenName": 16,
    "lenType": 16,
    "lenVar": 40
   },
   "kernels_config": {
    "python": {
     "delete_cmd_postfix": "",
     "delete_cmd_prefix": "del ",
     "library": "var_list.py",
     "varRefreshCmd": "print(var_dic_list())"
    },
    "r": {
     "delete_cmd_postfix": ") ",
     "delete_cmd_prefix": "rm(",
     "library": "var_list.r",
     "varRefreshCmd": "cat(var_dic_list()) "
    }
   },
   "types_to_exclude": [
    "module",
    "function",
    "builtin_function_or_method",
    "instance",
    "_Feature"
   ],
   "window_display": false
  }
 },
 "nbformat": 4,
 "nbformat_minor": 4
}
